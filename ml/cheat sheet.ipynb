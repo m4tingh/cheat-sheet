{
 "cells": [
  {
   "cell_type": "markdown",
   "id": "10ff870b",
   "metadata": {},
   "source": [
    "MSE: میانگین مربعات خطا\n",
    "جمع تفاوت همه به توان 2 تقسیم بر تعداد\n",
    "\n",
    "RMSE: رادیکال mse\n",
    "\n",
    "MAE: میانگین قدر مطلق خطا\n",
    "کوچک تر مساوی rmse\n",
    "\n",
    "MAPE: میانگین ذرصذ خطا\n",
    "\n",
    "R**2: در بهترین حالت 1 میشه\n",
    "\n",
    "bias: بایاس توی یادگیری ماشین یعنی خطای سیستماتیکی که از ساده‌سازی یا فرضیات اشتباه مدل به وجود میاد و باعث میشه پیش‌بینی‌ها از مقدار واقعی منحرف بشن.\n",
    "\n",
    "بایاس معمولاً با افزایش داده‌ها تغییر خاصی نمی‌کنه. چون بایاس بیشتر به ساختار و پیچیدگی مدل ربط داره، نه به مقدار داده. مثلا اگه یه مدل خطی بذاری روی یه رابطه‌ی غیرخطی، چه با ۱۰۰ تا داده چه با ۱۰۰۰۰ تا، همچنان خطی می‌مونه → پس همون خطای سیستماتیک (بایاس) رو داره.\n",
    "\n",
    "واریانس معمولاً با افزایش داده‌ها کمتر میشه. چون مدل فرصت پیدا می‌کنه الگوهای واقعی‌تر رو ببینه و وابستگی‌اش به نوسان‌های تصادفی داده‌ها کمتر میشه.\n",
    "\n",
    "گرادیان کاهشی (Gradient Descent) یک الگوریتم بهینه‌سازی است که برای کمینه کردن تابع خطا در مدل‌های یادگیری ماشین استفاده می‌شود. ایده‌ی اصلی آن بر پایه‌ی حرکت در خلاف جهت شیب تابع خطا است؛ جایی که شیب (گرادیان) بیشترین میزان افزایش را نشان می‌دهد، پس حرکت خلاف آن باعث کاهش خطا می‌شود. در هر مرحله، پارامترهای مدل به اندازه‌ی یک گام کوچک (نرخ یادگیری یا Learning Rate) در جهت منفی گرادیان به‌روزرسانی می‌شوند. اگر نرخ یادگیری خیلی بزرگ باشد، الگوریتم ممکن است از نقطه‌ی بهینه عبور کند، و اگر خیلی کوچک باشد، فرایند یادگیری بسیار کند خواهد شد."
   ]
  },
  {
   "cell_type": "markdown",
   "id": "bc6bea9b",
   "metadata": {},
   "source": [
    "## Numpy"
   ]
  },
  {
   "cell_type": "code",
   "execution_count": null,
   "id": "09127181",
   "metadata": {},
   "outputs": [],
   "source": [
    "import numpy as np\n",
    "np.__version__ #ورژن نصب شده\n",
    "a = np.array([[1,2],[3,4],[5,6]]) #ساخت یک ماتریس\n",
    "a[0, 0:2] #انتخاب یک سطر و تعداد آرایه در آن\n",
    "np.where(a > 5, a, 0) #توی ماتریس a اونایی که بالاتر از 5 هستن رو بیاره وگرنه 0 بزاره\n",
    "a.shape # ابعادش رو میشه گرفت\n",
    "np.reshape(a, (1,-1)) #تغییر ابعاد\n",
    "a.ndim #تعداد بعد\n",
    "a.dtype #وضعیت دیتا رو میده\n",
    "a = np.array([[1,2],[3,4],[5,6]], dtype=np.float32) #ایجاد آرایه با تایپ دلخواه\n",
    "a.itemsize #میگه آیتم ها چه اندازه ای هستند\n",
    "d1 = np.arange(1, 20, step=5) #ابتدا و انتها داشته باشیم\n",
    "d2 = np.linspace(1,2 , num=5) #اول و اخر و تعداد عددامون رو داشته باشیم\n",
    "np.ones(shape=(3,2)) #همه اعداد1\n",
    "np.zeros((2,3)) #همه اعداد 0\n",
    "np.full((3,2),5) # همه اعداد 5\n",
    "np.eye(4) #اعداد قطر اصلی4\n",
    "np.fliplr(np.eye(4)) #قرینه\n",
    "np.random.rand(3,2) # یه ماتریس پر عدد رندوم\n",
    "np.add(x,y) #جمع کردن دوتا ماتریس با سرعت بیشتر\n",
    "np.subtract(x,y) #منها کردن دوتا ماتریس با سرعت بیشتر\n",
    "np.multiply(x,y) #ضرب کردن دوتا ماتریس با سرعت بیشتر\n",
    "np.divide(x,y) #تقسیم کردن دوتا ماتریس با سرعت بیشتر\n",
    "np.sqrt(x) #رادیکال\n",
    "arr = np.array([2,1,5,3,7,4,6,8])\n",
    "np.sort(arr)\n",
    "np.concatenate((a,b)) #دوتا ماتریس رو یکی میکنه\n",
    "a.max() #بیشترین\n",
    "a.sum() #جمع\n",
    "a.min() #کمترین\n",
    "b.flatten() #همون کار reshape \n",
    "b.ravel() # همون کار reshape ولی رم رو درگیر نمیکنه"
   ]
  },
  {
   "cell_type": "markdown",
   "id": "d04d2dd6",
   "metadata": {},
   "source": [
    "# Pandas"
   ]
  },
  {
   "cell_type": "code",
   "execution_count": null,
   "id": "e149014f",
   "metadata": {},
   "outputs": [],
   "source": [
    "import pandas as pd\n",
    "data = pd.read_csv(\"name.csv\")\n",
    "data.head() #نمایش 5 داده اول ذخیره شده\n",
    "data.tail() #نمایش 5 داده آخر ذخیره شده\n",
    "data.shape #تعداد سطر و ستون\n",
    "data.describe() #گزارش عددی از دیتا میده\n",
    "data.columns #اسم سرستون ها\n",
    "data.dtype #برای هر ستون میگه\n",
    "data.info() #اطلاعات کلی راجب دیتافریم\n",
    "data['id'][0:5] #توی ستون id 5 تای اول رو برگردونه\n",
    "data.id[0:5] #توی ستون id 5 تای اول رو برگردونه\n",
    "data['survived'].value_counts() #میاد براساس کتگوری های دیتای موجود در ستون میشماره\n",
    "data['survived'].value_counts(normalize=True) #میاد براساس کتگوری های دیتای موجود در ستون رو بر اساس درصد میشماره\n",
    "pd.crosstab(riranic_data.sex, titanix.survived) #دیتا رو براساس چند سرستون مختلف تقسیم بندی کنیم\n",
    "pd.crosstab(riranic_data.sex, titanix.survived ,normalize=index) #دیتا رو براساس چند سرستون مختلف به درصد تقسیم بندی کنیم\n",
    "below_5_years = titanic_data[titanic_data.age <= 5] #نوشتن شرط\n",
    "below_5_years = titanic_data[titanic_data.age <= 5]['survived'].value_counts #تعدادی که زیر 5 سالن و زنده موندن\n",
    "titanic_data[titanic_data.name.str.contains(\"allen\")] #توی ستون name اسمایی که شامل allen میشن رو برمیگردونه\n",
    "titanic_data.embarked.unique() #دیتاها شامل چه حالت هایی اند\n",
    "titanic_data[(titanic_data.survived == 1) & (titanic_data.age <= 5)][['age','sex','pclass']] #سه ستون با دیتاهایی که شرط زنده ماندن و سن کمتر از 5 سال\n",
    "titanic_data.age.isnull #فقط دیتاهایی که سن معلوم نیست\n",
    "- titanic_data.age.isnull #فقط دیتاهایی که سن معلوم هست\n",
    "titanic_data.groupby('pclass')['age'].mean() #توی چه سرستونی گروه بندی انجام بشه و میانگین بگیره\n",
    "titanic_data.sort_values('age') #صعودی سورت بشه\n",
    "titanic_data.sort_values('age',ascending = False) #نزولی صورت بشه\n",
    "titanic.sample(5) #رندوم 5 سطر رو نشون میده\n",
    "data.iloc[<row selection>, <column selection>] #برای انتخاب ردیف یا ستون با شماره\n",
    "data.loc[<row selection>, <column selection>] #برای انتخاب ردیف یا ستون با اسم\n",
    "titanic.query('x == 1 and e == \"s\" and er = false') #مثل where توی دیتابیس\n",
    "df.drop('size', inplace = True, axis=1) #یه ستون رو حذف میکنه و چون inplace فعاله میاد توی df دیتا رو میریزه دوباره\n",
    "df. dropna() #نال رو حذف میکنه \n",
    "df.replace({'sex':{'male': 0, 'Female': 1}, 'smoker': {'no':0, 'yes':1}}, inplace=True) #جایگذاری  \n",
    "###########################\n",
    "days = pd.get_dummies(df['day']) #روی ستون روز one hot encoding انجام میده \n",
    "df = pd.concat([df,days],axis=1) #ترکیب دوتا دیتافریم\n",
    "#axis = 0 میاد به index اضافه میکنه، اخرش یعنی،  axis = 1 به صورت ستونی اضافه میکنه\n",
    "###########################"
   ]
  },
  {
   "cell_type": "markdown",
   "id": "dedd7ceb",
   "metadata": {},
   "source": [
    "## seaborn"
   ]
  },
  {
   "cell_type": "code",
   "execution_count": null,
   "id": "fa2f6a37",
   "metadata": {},
   "outputs": [],
   "source": [
    "import seaborn as sns\n",
    "sns.set_context(\"notebook\", font_scale=1.5, rc={\"lines.linewidth\":2.5})\n",
    "tips = sns.load_dataset('tips') #دیتاست رو لود میکنیم\n",
    "sns.displot(tips, x=\"total_bill\") #از چه دیتابیسی روی x دیستربیوشن بده\n",
    "sns.displot(tips, x=\"total_bill\", bins = 4) #از چه دیتابیسی روی x دیستربیوشن بده با چه تعداد ستون\n",
    "sns.displot(tips, x=\"total_bill\", discrete = True) #از چه دیتابیسی روی x دیستربیوشن بده همه ستون ها رو هم به هم بچسبونه\n",
    "sns.displot(tips, x=\"total_bill\", shrink = 0.8) #از چه دیتابیسی روی x دیستربیوشن بده ستون ها رو با فاصله 0.8 جدا کنه\n",
    "sns.displot(tips, x=\"total_bill\", kind = \"kde\") #از چه دیتابیسی روی x دیستربیوشن بده با یه نمودار پیوسته\n",
    "sns.displot(tips, x=\"total_bill\", hue = \"sex\", kind = \"kde\", fill = \"True\") #از چه دیتابیسی روی x دیستربیوشن بده بر اساس چند بعد با  یه نمودار پیوسته\n",
    "sns.set_theme(style=\"ticks\", color_codes=True) #تنظیم کار پلت ها\n",
    "sns.color_palette() #نمایش کالر پلت ها\n",
    "#paired , rooket , mako , انواع کالر پلت\n",
    "sns.catplot(x=\"طول\"، y=\"عرض\", data=data) #ساخت نمودار برای دیتا\n",
    "# انوع گزینه هابرای ایجاد نمودار\n",
    "[\n",
    "jitter = False #پراکندگی رو کم میکنه\n",
    "kind = \"swarm\" #دیتا رو برای بهتر دیده شدن یکم باز میکنه\n",
    "kind = \"box\" #ایجاد چهارک\n",
    "kind = \"boxen\" #ایجاد چهارک برای نمودار هایی که دیتاشون بیشتره و به جزئیات بیشتر نیازه\n",
    "kind = \"violin\" #\n",
    "kind = \"count\" #میشماره\n",
    "kind = \"point\" #نمودار های جداگانه میکشهه\n",
    "kind = \"bar\" #نمودار میله ای\n",
    "hue=\"sex\" #بر اساس یه دیتایی جدا کنه\n",
    "]\n",
    "sns.relplot(x=\"طول\" ,y=\"عرض\", data=data)\n",
    "sns.set_theme(style=\"darkgrid\") #تغییر تم\n",
    "# انوع گزینه هابرای ایجاد نمودار\n",
    "[\n",
    "style=\"data\" #برای حداسازی بهتر شکل رو تغییر میده\n",
    "kind=\"line\" #خطی\n",
    "size = \"Data\" #برای جداسازی بهتر اندازه رو تغییر میده\n",
    "]\n",
    "sns.regplot(x=\"طول\" ,y=\"عرض\", data=data) #یه رگرشنی انجام میده\n",
    "g = sns.FacetGrid(tips, col=\"time\", row=\"sex\") #تعریف\n",
    "g.map(sns.scatterplot, \"total_bill\", \"tip\") #ایجاد\n",
    "g.map_dataframe(sns.scatterplot, \"total_bill\", \"tip\") #ایجاد\n",
    "sns.histplot #نمودار هیستوگرام\n",
    "g.set_axis_labels(\"طول\"،\"عرض\")\n",
    "sns.histplot(y_test-predict) #اختلاف دیتا با پیشبینی رو نمودار میکنه"
   ]
  },
  {
   "cell_type": "markdown",
   "id": "f110e7fa",
   "metadata": {},
   "source": [
    "## matplotlib"
   ]
  },
  {
   "cell_type": "code",
   "execution_count": null,
   "id": "486e92f2",
   "metadata": {},
   "outputs": [],
   "source": [
    "import matplotlib.pyplot as plt\n",
    "plt.plot() #رسم نمودار"
   ]
  },
  {
   "cell_type": "markdown",
   "id": "ea104e1d",
   "metadata": {},
   "source": [
    "## warning"
   ]
  },
  {
   "cell_type": "code",
   "execution_count": null,
   "id": "3e5a4414",
   "metadata": {},
   "outputs": [],
   "source": [
    "import warnings\n",
    "warnings.filterwarnings('ignore') #خطاهای اضافی رو توی جوپیتر نوت بوک نشون نمیده"
   ]
  },
  {
   "cell_type": "markdown",
   "id": "13739fcb",
   "metadata": {},
   "source": [
    "## SKLearn"
   ]
  },
  {
   "cell_type": "code",
   "execution_count": null,
   "id": "884c1d17",
   "metadata": {},
   "outputs": [],
   "source": [
    "from sklearn.model_selection import train_test_split\n",
    "from sklearn.linear_model import LinearRegression\n",
    "from sklearn import metrics\n",
    "x_train, x_test, y_train, y_test = train_test_split(X,Y,test_size=0.25,random_state=26)  #دیتا رو برای تمرین و تست تقسیم میکنه، رندوم استیت اگه تعیین نشه دیتا رو پخش میگیره و نتیجه متفاوت میشه\n",
    "regressor = LinearRegression()\n",
    "regressor.fit(x_train,y_test) #روی دیتای train مدل رو اجرا میکنه\n",
    "predict = regressor.predict(x_test) #رئی دیتای تست پیشبینی میکنه\n",
    "#بررسی سه مدل خطا\n",
    "print ('Mean Absolute Error:', metrics.mean_absolute_error (y_test, predictions) )\n",
    "print ('Mean Squared Error:', metrics.mean_squared_error (y_test, predictions) )\n",
    "print ('Root Mean Squared Error:', np.sqrt (metrics.mean squared error(y test, predictions) ) )\n",
    "#\n",
    "\n"
   ]
  }
 ],
 "metadata": {
  "language_info": {
   "name": "python"
  }
 },
 "nbformat": 4,
 "nbformat_minor": 5
}
