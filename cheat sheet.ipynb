{
 "cells": [
  {
   "cell_type": "markdown",
   "id": "bc6bea9b",
   "metadata": {},
   "source": [
    "## Numpy"
   ]
  },
  {
   "cell_type": "code",
   "execution_count": null,
   "id": "09127181",
   "metadata": {},
   "outputs": [],
   "source": [
    "import numpy as np\n",
    "np.__version__ #ورژن نصب شده\n",
    "a = np.array([[1,2],[3,4],[5,6]]) #ساخت یک ماتریس\n",
    "a[0, 0:2] #انتخاب یک سطر و تعداد آرایه در آن\n",
    "np.where(a > 5, a, 0) #توی ماتریس a اونایی که بالاتر از 5 هستن رو بیاره وگرنه 0 بزاره\n",
    "a.shape # ابعادش رو میشه گرفت\n",
    "np.reshape(a, (1,-1)) #تغییر ابعاد\n",
    "a.ndim #تعداد بعد\n",
    "a.dtype #وضعیت دیتا رو میده\n",
    "a = np.array([[1,2],[3,4],[5,6]], dtype=np.float32) #ایجاد آرایه با تایپ دلخواه\n",
    "a.itemsize #میگه آیتم ها چه اندازه ای هستند\n",
    "d1 = np.arange(1, 20, step=5) #ابتدا و انتها داشته باشیم\n",
    "d2 = np.linspace(1,2 , num=5) #اول و اخر و تعداد عددامون رو داشته باشیم\n",
    "np.ones(shape=(3,2)) #همه اعداد1\n",
    "np.zeros((2,3)) #همه اعداد 0\n",
    "np.full((3,2),5) # همه اعداد 5\n",
    "np.eye(4) #اعداد قطر اصلی4\n",
    "np.fliplr(np.eye(4)) #قرینه\n",
    "np.random.rand(3,2) # یه ماتریس پر عدد رندوم\n",
    "np.add(x,y) #جمع کردن دوتا ماتریس با سرعت بیشتر\n",
    "np.subtract(x,y) #منها کردن دوتا ماتریس با سرعت بیشتر\n",
    "np.multiply(x,y) #ضرب کردن دوتا ماتریس با سرعت بیشتر\n",
    "np.divide(x,y) #تقسیم کردن دوتا ماتریس با سرعت بیشتر\n",
    "np.sqrt(x) #رادیکال\n",
    "arr = np.array([2,1,5,3,7,4,6,8])\n",
    "np.sort(arr)\n",
    "np.concatenate((a,b)) #دوتا ماتریس رو یکی میکنه\n",
    "a.max() #بیشترین\n",
    "a.sum() #جمع\n",
    "a.min() #کمترین\n",
    "b.flatten() #همون کار reshape \n",
    "b.ravel() # همون کار reshape ولی رم رو درگیر نمیکنه"
   ]
  },
  {
   "cell_type": "markdown",
   "id": "d04d2dd6",
   "metadata": {},
   "source": [
    "# Pandas"
   ]
  },
  {
   "cell_type": "code",
   "execution_count": null,
   "id": "e149014f",
   "metadata": {},
   "outputs": [],
   "source": [
    "\n",
    "import pandas as pd\n",
    "data = pd.read_csv(\"name.csv\")\n",
    "data.head() #نمایش 5 داده اول ذخیره شده\n",
    "data.tail() #نمایش 5 داده آخر ذخیره شده\n",
    "data.shape #تعداد سطر و ستون\n",
    "data.columns #اسم سرستون ها\n",
    "data.dtype #برای هر ستون میگه\n",
    "data.info() #اطلاعات کلی راجب دیتافریم"
   ]
  }
 ],
 "metadata": {
  "language_info": {
   "name": "python"
  }
 },
 "nbformat": 4,
 "nbformat_minor": 5
}
