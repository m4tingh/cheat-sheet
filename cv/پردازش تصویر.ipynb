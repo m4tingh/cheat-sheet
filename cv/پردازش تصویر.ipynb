{
 "cells": [
  {
   "cell_type": "markdown",
   "id": "6dc88e00",
   "metadata": {},
   "source": [
    "image proccesing: ورودی و خروجی الگوریتم یه عکس باشه، مثلا شفاف تر میشه\n",
    "machie vision: اطلاعات استخراج میکنه، وارد صنعت میشه با دوربین\n",
    "computer visio: اطلاعات استخراج میکنه، هرجایی ممکنه کار کنه، و، موبایل و نرم افزار ها. معمولا از سنسور استفاده نمیشه\n",
    "\n",
    "\n",
    "open cv یه کتابخونه realtime حساب میشه، با زبان c++ نوشته شده\n"
   ]
  },
  {
   "cell_type": "markdown",
   "id": "8656b618",
   "metadata": {},
   "source": []
  },
  {
   "cell_type": "markdown",
   "id": "67a5b515",
   "metadata": {},
   "source": []
  }
 ],
 "metadata": {
  "language_info": {
   "name": "python"
  }
 },
 "nbformat": 4,
 "nbformat_minor": 5
}
