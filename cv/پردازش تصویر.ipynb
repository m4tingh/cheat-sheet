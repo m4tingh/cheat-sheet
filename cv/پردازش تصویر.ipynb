{
 "cells": [
  {
   "cell_type": "markdown",
   "id": "6dc88e00",
   "metadata": {},
   "source": [
    "image proccesing: ورودی و خروجی الگوریتم یه عکس باشه، مثلا شفاف تر میشه\n",
    "machie vision: اطلاعات استخراج میکنه، وارد صنعت میشه با دوربین\n",
    "computer visio: اطلاعات استخراج میکنه، هرجایی ممکنه کار کنه، و، موبایل و نرم افزار ها. معمولا از سنسور استفاده نمیشه\n",
    "\n",
    "\n",
    "open cv یه کتابخونه realtime حساب میشه، با زبان c++ نوشته شده\n",
    "opencv عکس ها رو bgr لود میکنه\n",
    "وقتی عکس رو سیاه سفید میکنیم تعداد کانال ها1 میشه\n",
    "0 به معنی سیاه مطلق و 255 سفید مطلق\n",
    "برای تغییر به gray، کانال g بیشترین اهمیت و b کمترین اهمیت رو داره\n",
    "وقتی توی جمع از 255 بیشتر میشه، دوباره برمیگرده از 0 شروع میکنه\n",
    "uint8 یعنی بدون علامت، عدد صحیح و 8 بیت"
   ]
  },
  {
   "cell_type": "code",
   "execution_count": null,
   "id": "a62400c5",
   "metadata": {},
   "outputs": [],
   "source": [
    "pip install opencv-python\n",
    "\n",
    "import cv2 as cv\n",
    "img = cv.imread('main.jpg.jpg') #خواندن عکس\n",
    "#cv.imshow('image', img) #دیدن عکس\n",
    "#cv.waitkey() #منتظر فرمان دکمه میمونه و بعد خط بعدی اجرا بشه، میشه براش زمان تعیین کرد\n",
    "#cv.destroyAllWindows() #کیگه هر پنجره ای که باز کردی رو ببند\n",
    "type(img)\n",
    "print(img.shape) #اول سطر خونده میشه بعد ستون\n",
    "cv.imwrite('output.jpg', img) #ذخیره عکس\n",
    "#jpg کیفیت عکس رو کم و فشرده میکنه ولی png خیر\n",
    "####\n",
    "#خروجی داخل کد\n",
    "import matplotlib.pyplot as plt\n",
    "plt.imshow(img)\n",
    "plt.imshow(img[...,::-1]) #نعویض کانال عکس ها\n",
    "####\n",
    "rgb_image = cv.cvtColor(img, cv.COLOR_BGR2RGB) #تعویض کانال با استفاده از cv\n",
    "img[200:300,300:500,:] = (0,0,255) #تغییر پیکسل کانال ها در موقعیت مورد نیاز\n",
    "gray_image = cv.cvtColor(img, cv.COLOR_BGR2GRAY) #عکس رو سیاه و سفید میکنه\n",
    "img = cv.imread('main.jpg',0) #خودش موقع خوندن عکس گری اسکیل میکنه\n",
    "plt.imshow(img, cmap = 'gray') #با متپلات لیب بشه عکس رو با کانال مورد نیاز دید\n",
    "plt.imshow(img[...,::-1]) #مثل قبل\n",
    "B ,G ,R = img[10, 50] #توی مختصاتی که میخوایم عدد هرکدوم رو بریزیم توی یه ولیو\n",
    "print(B, G, R) \n",
    "round(0.2989*R+0.5870*G+0.1140*B) #فرمول تبدیل\n",
    "new_img = img[:,:,0]//3 + img[...,1]//3 + img[...,2]//3 \n",
    "## برای تغییر ماتریس عکس\n",
    "import numpy as np \n",
    "##\n",
    "cropped = img[250:400, 250:550] #برای کراپ کردن عکس، از نقطه فلان تا فلان\n",
    "b, g, r = cv.split(img) #جدا گردن ماتریسا\n",
    "plt.figure(figsize=[20,5]) #یه تصویر با وطل 20 و عرض 5\n",
    "plt.subplot(141);plt.imshow(r,cmap='gray');plt.title(\"red Channel\")\n",
    "merged = cv.merge([b, g, r]) #ترکیب کردنشون برعکس اسپلیت\n",
    "zeros = np.zeros_like(r, 'unit8') #به اندازه ماتریس R یه ماتریس 0 درست میکنه\n",
    "cv.add(b, 20) #حواسش هست اگه از 255 بیشتر شد خود 255 رو نگه داره\n"
   ]
  }
 ],
 "metadata": {
  "language_info": {
   "name": "python"
  }
 },
 "nbformat": 4,
 "nbformat_minor": 5
}
